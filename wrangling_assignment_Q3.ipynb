{
  "nbformat": 4,
  "nbformat_minor": 0,
  "metadata": {
    "colab": {
      "provenance": []
    },
    "kernelspec": {
      "name": "python3",
      "display_name": "Python 3"
    },
    "language_info": {
      "name": "python"
    }
  },
  "cells": [
    {
      "cell_type": "markdown",
      "source": [
        "1. The U.S. gathered data on race based on \"self-identificatio\", which means by answering a questionaire delivered via either online, phone, or mail. The questionaire included pre-defined categories and they were allowed to select multiple or write in an answer if it wasn't already listed. Going forward they are considering combining race and ethnicity into one.\n",
        "2. Census data is collected for many reasons, like social and economic research, resource allocation, demographic analysis, policy developement, etc. The methods of census data collection often reflected american attidudes, changing as the people's perceptions of race did. For example, the first census had categories that separated free vs. enslaved people. Later, with concerns about immigration, categories like Chinese and Mexican were seen, mexican americans pushing back on that as they wanted to be considered as white for citizenship purposes. A big shift came in these collection methods when people were allowed to choose their race themselves, rather than a census taker. Due to the potential major impacts of this kind of data, it is highly important that the data is good quality. Bias in this data could directly relate to exhasterbating bias in everyday life, or on the other side of things, result in important issues beign overlooked. https://www.nytimes.com/2023/10/28/us/census-history-race-ethnicity.html\n",
        "3. Overtime, the changing methods of census conduction has had its pros and cons. Its good that there are more selections for race, as it better reflects the population, especially allowing people to write an answer in if its not listed. However, it is hard to compare census data amoung previous ones with all of the changing parameters and with regard to the time span the information is taken over. Collection methods have also gotten better with regard to accessability, but could still use some improvement in gathering data in hard to reach populations like the homeless, immigrants, and those in more remote areas. The census also made improvements by making the questions available in multiple languages, breaking down another potential barrier to reflective survey responses. Some of these good practices could definetly be used better on job applications. Almost every job application I've done always white, black, hispanic or latino, asian, two or more races, prefer not to answer, or ocassionally allow you to select more than one as options. And as far as ethnicity goes, its usually just hispanic or non-hispanic. The options aren't very all-encompasing and seems to have more bias than just being imformative in the data collection process, and makes me wonder if it even should be needed as a relevant question. Like, if it should even be asked at all, or if it is should it be asked better.\n",
        "4. The census gathered data on gender and sex by simply asking male or female. To that end, contrary to those job applications I was talking about with regards to race, most of them offer more options than that most recent census survey. This seems to reflect the census reflects the traditional binary view of gender versus these companies in the private sectors. However, changing from the binary look on gender would alter the ability to make meaningful comparisions with previous data as well. Although the census asked about sex, it did not ask about gender identity, which leaves out this information about an important part of many peoples self perception. In the future, the census could provide more inclusive and clear survey options regarding sex at birth and gender identity.\n",
        "5. Protected characteristics are very private information and can lead to privacy concerns if handled poorly. This information is also very sensitive can further contribute to discrimination if inflicted with bias, which it is at greater risk for if there are a lot of missing values resulting from barriers and lack of inclusivity and regard to intersectionality. Some good practices might inlcude clarity and transparency in the data collection and cleaning processes like clearly documenting hwo missing data is handled and ensuring reproducability, as safely and securly storing data. Bad practices would include imputations without regard to potential bias and unauthorized sharing of data.\n",
        "6. I would have concerns with biases in the algorithm, whether the algoritm protects data privacy properly, whether it is accurate. Of course, these would greatly depend on the transparency of the system, if it is even possible at all to clearly answer these questions. Main bias concerns would be in the collection of the data - like what questions are specifically asked. Then, the cleaning of the data, like what kind of answers were given and how the answers should be interpereted. Downfalls in the algorithm could lead to innaccurate representations about the populations sensitivity, indenitifications, and understandings."
      ],
      "metadata": {
        "id": "kNxUN9mmuyUs"
      }
    },
    {
      "cell_type": "code",
      "execution_count": null,
      "metadata": {
        "id": "L3fdXctBuoic"
      },
      "outputs": [],
      "source": []
    }
  ]
}